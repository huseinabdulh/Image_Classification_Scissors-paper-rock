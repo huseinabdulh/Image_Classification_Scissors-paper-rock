{
 "cells": [
  {
   "cell_type": "code",
   "execution_count": 1,
   "metadata": {},
   "outputs": [
    {
     "name": "stdout",
     "output_type": "stream",
     "text": [
      "Requirement already satisfied: opendatasets in c:\\users\\asus ryzen\\anaconda3\\lib\\site-packages (0.1.20)\n",
      "Requirement already satisfied: kaggle in c:\\users\\asus ryzen\\anaconda3\\lib\\site-packages (from opendatasets) (1.5.12)\n",
      "Requirement already satisfied: click in c:\\users\\asus ryzen\\anaconda3\\lib\\site-packages (from opendatasets) (7.1.2)\n",
      "Requirement already satisfied: tqdm in c:\\users\\asus ryzen\\anaconda3\\lib\\site-packages (from opendatasets) (4.50.2)\n",
      "Requirement already satisfied: requests in c:\\users\\asus ryzen\\anaconda3\\lib\\site-packages (from kaggle->opendatasets) (2.24.0)\n",
      "Requirement already satisfied: python-dateutil in c:\\users\\asus ryzen\\anaconda3\\lib\\site-packages (from kaggle->opendatasets) (2.8.1)\n",
      "Requirement already satisfied: urllib3 in c:\\users\\asus ryzen\\anaconda3\\lib\\site-packages (from kaggle->opendatasets) (1.25.11)\n",
      "Requirement already satisfied: python-slugify in c:\\users\\asus ryzen\\anaconda3\\lib\\site-packages (from kaggle->opendatasets) (5.0.2)\n",
      "Requirement already satisfied: certifi in c:\\users\\asus ryzen\\anaconda3\\lib\\site-packages (from kaggle->opendatasets) (2020.6.20)\n",
      "Requirement already satisfied: six>=1.10 in c:\\users\\asus ryzen\\anaconda3\\lib\\site-packages (from kaggle->opendatasets) (1.15.0)\n",
      "Requirement already satisfied: chardet<4,>=3.0.2 in c:\\users\\asus ryzen\\anaconda3\\lib\\site-packages (from requests->kaggle->opendatasets) (3.0.4)\n",
      "Requirement already satisfied: idna<3,>=2.5 in c:\\users\\asus ryzen\\anaconda3\\lib\\site-packages (from requests->kaggle->opendatasets) (2.10)\n",
      "Requirement already satisfied: text-unidecode>=1.3 in c:\\users\\asus ryzen\\anaconda3\\lib\\site-packages (from python-slugify->kaggle->opendatasets) (1.3)\n"
     ]
    }
   ],
   "source": [
    "!pip install opendatasets"
   ]
  },
  {
   "cell_type": "markdown",
   "metadata": {},
   "source": [
    "# load"
   ]
  },
  {
   "cell_type": "code",
   "execution_count": 2,
   "metadata": {},
   "outputs": [],
   "source": [
    "import opendatasets as od\n",
    "import os"
   ]
  },
  {
   "cell_type": "code",
   "execution_count": 3,
   "metadata": {},
   "outputs": [
    {
     "data": {
      "text/plain": [
       "{'username': 'huseinabdulh', 'key': 'e953505bd13b6491beac8d1916f15533'}"
      ]
     },
     "execution_count": 3,
     "metadata": {},
     "output_type": "execute_result"
    }
   ],
   "source": [
    "{\"username\":\"huseinabdulh\",\"key\":\"e953505bd13b6491beac8d1916f15533\"}"
   ]
  },
  {
   "cell_type": "code",
   "execution_count": 4,
   "metadata": {},
   "outputs": [
    {
     "data": {
      "text/plain": [
       "\"od.download('https://www.kaggle.com/drgfreeman/rockpaperscissors')\""
      ]
     },
     "execution_count": 4,
     "metadata": {},
     "output_type": "execute_result"
    }
   ],
   "source": [
    "\"\"\"od.download('https://www.kaggle.com/drgfreeman/rockpaperscissors')\"\"\""
   ]
  },
  {
   "cell_type": "code",
   "execution_count": 5,
   "metadata": {},
   "outputs": [
    {
     "name": "stdout",
     "output_type": "stream",
     "text": [
      "C:\\Users\\ASUS RYZEN\\AnacondaJupyter\\ML_Praktikum\\Modul3\\rockpaperscissors\\rps-cv-images\n"
     ]
    }
   ],
   "source": [
    "cd C:\\Users\\ASUS RYZEN\\AnacondaJupyter\\ML_Praktikum\\Modul3\\rockpaperscissors\\rps-cv-images"
   ]
  },
  {
   "cell_type": "code",
   "execution_count": 6,
   "metadata": {},
   "outputs": [
    {
     "name": "stdout",
     "output_type": "stream",
     "text": [
      " Volume in drive C is OS\n",
      " Volume Serial Number is 70B6-E30C\n",
      "\n",
      " Directory of C:\\Users\\ASUS RYZEN\\AnacondaJupyter\\ML_Praktikum\\Modul3\\rockpaperscissors\\rps-cv-images\n",
      "\n",
      "11/07/2021  10:06 PM    <DIR>          .\n",
      "11/07/2021  10:06 PM    <DIR>          ..\n",
      "11/07/2021  10:06 PM    <DIR>          paper\n",
      "11/07/2021  10:06 PM               879 README_rpc-cv-images.txt\n",
      "11/07/2021  10:06 PM    <DIR>          rock\n",
      "11/07/2021  10:06 PM    <DIR>          scissors\n",
      "               1 File(s)            879 bytes\n",
      "               5 Dir(s)  360,349,798,400 bytes free\n"
     ]
    }
   ],
   "source": [
    "ls"
   ]
  },
  {
   "cell_type": "markdown",
   "metadata": {},
   "source": [
    "## Load and Split Data"
   ]
  },
  {
   "cell_type": "code",
   "execution_count": 7,
   "metadata": {},
   "outputs": [],
   "source": [
    "import os\n",
    "base_dataset = 'C:/Users/ASUS RYZEN/AnacondaJupyter/ML_Praktikum/Modul3/rockpaperscissors/rps-cv-images'\n",
    "class_dir = ['paper', 'rock', 'scissors']\n",
    "for class_item in class_dir:\n",
    "  cur_dir = base_dataset+\"/\"+class_item\n",
    "  \n",
    "  dataset = os.listdir(cur_dir)\n",
    "  for item in dataset:\n",
    "    if not item.endswith(\".png\"):\n",
    "        os.remove(os.path.join(cur_dir, item))"
   ]
  },
  {
   "cell_type": "code",
   "execution_count": 8,
   "metadata": {},
   "outputs": [
    {
     "name": "stdout",
     "output_type": "stream",
     "text": [
      "C:\\Users\\ASUS RYZEN\\AnacondaJupyter\\ML_Praktikum\\Modul3\n"
     ]
    }
   ],
   "source": [
    "cd C:\\Users\\ASUS RYZEN\\AnacondaJupyter\\ML_Praktikum\\Modul3"
   ]
  },
  {
   "cell_type": "code",
   "execution_count": 9,
   "metadata": {},
   "outputs": [
    {
     "name": "stdout",
     "output_type": "stream",
     "text": [
      " Volume in drive C is OS\n",
      " Volume Serial Number is 70B6-E30C\n",
      "\n",
      " Directory of C:\\Users\\ASUS RYZEN\\AnacondaJupyter\\ML_Praktikum\\Modul3\n",
      "\n",
      "11/07/2021  08:16 AM            13,050 (versi 3) Kegiatan Modul 3.ipynb\n",
      "11/08/2021  10:53 AM           145,313 (versi2) Modul 3 ML - Handling Overfit Problem #1.ipynb\n",
      "11/08/2021  11:05 AM    <DIR>          .\n",
      "11/08/2021  11:05 AM    <DIR>          ..\n",
      "11/08/2021  09:47 AM    <DIR>          .ipynb_checkpoints\n",
      "11/07/2021  10:07 PM    <DIR>          fix_data\n",
      "11/08/2021  07:16 AM    <DIR>          fix_data_splitted\n",
      "11/07/2021  08:02 AM           187,026 Modul 3.zip\n",
      "11/07/2021  10:06 PM    <DIR>          rockpaperscissors\n",
      "11/08/2021  10:36 AM    <DIR>          saved_model\n",
      "11/07/2021  11:05 PM       134,119,688 Uji_Model1.h5\n",
      "11/07/2021  11:14 PM            71,476 Uji_Model1.ipynb\n",
      "11/08/2021  10:29 AM           122,380 Uji_Model2.ipynb\n",
      "11/08/2021  11:05 AM            20,175 Uji_Model2-Copy1.ipynb\n",
      "               7 File(s)    134,679,108 bytes\n",
      "               7 Dir(s)  360,349,782,016 bytes free\n"
     ]
    }
   ],
   "source": [
    "ls\n"
   ]
  },
  {
   "cell_type": "code",
   "execution_count": 10,
   "metadata": {},
   "outputs": [
    {
     "data": {
      "text/plain": [
       "'import splitfolders\\n\\nbase_dir=\"C:/Users/ASUS RYZEN/AnacondaJupyter/ML_Praktikum/Modul3/rockpaperscissors/rps-cv-images\"\\ndata_dir=\"C:/Users/ASUS RYZEN/AnacondaJupyter/ML_Praktikum/Modul3/fix_data_splitted\"\\nsplitfolders.ratio(base_dir, output=data_dir, seed=1337, ratio=(.8 ,0.19 ,0.01),group_prefix=None)'"
      ]
     },
     "execution_count": 10,
     "metadata": {},
     "output_type": "execute_result"
    }
   ],
   "source": [
    "'''import splitfolders\n",
    "\n",
    "base_dir=\"C:/Users/ASUS RYZEN/AnacondaJupyter/ML_Praktikum/Modul3/rockpaperscissors/rps-cv-images\"\n",
    "data_dir=\"C:/Users/ASUS RYZEN/AnacondaJupyter/ML_Praktikum/Modul3/fix_data_splitted\"\n",
    "splitfolders.ratio(base_dir, output=data_dir, seed=1337, ratio=(.8 ,0.19 ,0.01),group_prefix=None)'''"
   ]
  },
  {
   "cell_type": "code",
   "execution_count": 11,
   "metadata": {},
   "outputs": [
    {
     "name": "stdout",
     "output_type": "stream",
     "text": [
      "Number of classes: 4\n",
      "\n",
      "DATASET AWAL \n",
      "Paper :  712\n",
      "Rock :  726\n",
      "Scissors :  750\n"
     ]
    }
   ],
   "source": [
    "dataset_awal ='C:/Users/ASUS RYZEN/AnacondaJupyter/ML_Praktikum/Modul3/rockpaperscissors/rps-cv-images'\n",
    "#tot_data_noclean = paper+rock+scissors\n",
    "\n",
    "print('Number of classes: {}'.format(len(os.listdir(dataset_awal))))\n",
    "#print('Number of datas: {}'.format(tot_data_noclean))\n",
    "print('')\n",
    "\n",
    "paper = len(os.listdir(dataset_awal+'/paper'))\n",
    "rock = len(os.listdir(dataset_awal+'/rock'))\n",
    "scissors = len(os.listdir(dataset_awal+'/scissors'))\n",
    "\n",
    "print(\"DATASET AWAL \")\n",
    "print('Paper : ', paper)\n",
    "print('Rock : ', rock)\n",
    "print('Scissors : ', scissors)\n",
    "\n",
    "\n"
   ]
  },
  {
   "cell_type": "code",
   "execution_count": 12,
   "metadata": {},
   "outputs": [],
   "source": [
    "#Define a path\n",
    "base_dir = 'C:/Users/ASUS RYZEN/AnacondaJupyter/ML_Praktikum/Modul3/fix_data_splitted'\n",
    "train_dir = os.path.join(base_dir, 'train')\n",
    "validation_dir = os.path.join(base_dir, 'val')\n",
    "test_dir = os.path.join(base_dir, 'test')\n",
    "\n",
    "train_paper_dir = os.path.join(train_dir, 'paper')\n",
    "train_rock_dir = os.path.join(train_dir, 'rock')\n",
    "train_scissors_dir = os.path.join(train_dir, 'scissors')\n",
    "\n",
    "validation_paper_dir = os.path.join(validation_dir, 'paper')\n",
    "validation_rock_dir = os.path.join(validation_dir, 'rock')\n",
    "validation_scissors_dir = os.path.join(validation_dir, 'scissors')\n",
    "\n",
    "test_paper_dir = os.path.join(test_dir, 'paper')\n",
    "test_rock_dir = os.path.join(test_dir, 'rock')\n",
    "test_scissors_dir = os.path.join(test_dir, 'scissors')"
   ]
  },
  {
   "cell_type": "code",
   "execution_count": 13,
   "metadata": {},
   "outputs": [
    {
     "name": "stdout",
     "output_type": "stream",
     "text": [
      "Train : \n",
      "Train Paper : 569\n",
      "Train Rock :  580\n",
      "Train scissors :  600\n",
      "\n",
      "Validation : \n",
      "Validation Paper : 135\n",
      "Validation Rock :  137\n",
      "Validation Scissors :  142\n",
      "\n",
      "Test : \n",
      "Test Paper : 8\n",
      "Test Rock :  9\n",
      "Test Scissors :  8\n"
     ]
    }
   ],
   "source": [
    "print('Train : ')\n",
    "print('Train Paper :', len(os.listdir(train_paper_dir)))\n",
    "print('Train Rock : ', len(os.listdir(train_rock_dir)))\n",
    "print('Train scissors : ', len(os.listdir(train_scissors_dir)))\n",
    "print(\"\"*2)\n",
    "print('Validation : ')\n",
    "print('Validation Paper :', len(os.listdir(validation_paper_dir)))\n",
    "print('Validation Rock : ', len(os.listdir(validation_rock_dir)))\n",
    "print('Validation Scissors : ', len(os.listdir(validation_scissors_dir)))\n",
    "print(\"\"*2)\n",
    "print('Test : ')\n",
    "print('Test Paper :', len(os.listdir(test_paper_dir)))\n",
    "print('Test Rock : ', len(os.listdir(test_rock_dir)))\n",
    "print('Test Scissors : ', len(os.listdir(test_scissors_dir)))"
   ]
  },
  {
   "cell_type": "markdown",
   "metadata": {},
   "source": [
    "# Preprocessing"
   ]
  },
  {
   "cell_type": "code",
   "execution_count": 14,
   "metadata": {},
   "outputs": [
    {
     "name": "stdout",
     "output_type": "stream",
     "text": [
      "C:\\Users\\ASUS RYZEN\\AnacondaJupyter\\ML_Praktikum\\Modul3\n"
     ]
    }
   ],
   "source": [
    "cd C:\\Users\\ASUS RYZEN\\AnacondaJupyter\\ML_Praktikum\\Modul3"
   ]
  },
  {
   "cell_type": "code",
   "execution_count": 15,
   "metadata": {},
   "outputs": [],
   "source": [
    "height = 100\n",
    "width = 100\n",
    "batch_size = 32"
   ]
  },
  {
   "cell_type": "code",
   "execution_count": 16,
   "metadata": {},
   "outputs": [
    {
     "name": "stdout",
     "output_type": "stream",
     "text": [
      "Requirement already satisfied: keras in c:\\users\\asus ryzen\\anaconda3\\lib\\site-packages (2.6.0)\n"
     ]
    }
   ],
   "source": [
    "!pip3 install keras"
   ]
  },
  {
   "cell_type": "code",
   "execution_count": 17,
   "metadata": {},
   "outputs": [],
   "source": [
    "import tensorflow as tf\n",
    "import keras_preprocessing\n",
    "from keras_preprocessing import image\n",
    "from keras_preprocessing.image import ImageDataGenerator"
   ]
  },
  {
   "cell_type": "code",
   "execution_count": 18,
   "metadata": {},
   "outputs": [
    {
     "name": "stdout",
     "output_type": "stream",
     "text": [
      "Found 1749 images belonging to 3 classes.\n",
      "Found 414 images belonging to 3 classes.\n",
      "Found 25 images belonging to 3 classes.\n"
     ]
    }
   ],
   "source": [
    "generator_datagen = ImageDataGenerator(\n",
    "    rescale = 1./255,\n",
    "    #rotation_range=40,\n",
    "    #width_shift_range=0.2,\n",
    "    #height_shift_range=0.2,\n",
    "    shear_range=0.2,\n",
    "    zoom_range=0.2,\n",
    "    horizontal_flip=True)\n",
    "\n",
    "val_gen = ImageDataGenerator(rescale = 1./255)\n",
    "\n",
    "TRAINING_DIR = \"C:/Users/ASUS RYZEN/AnacondaJupyter/ML_Praktikum/Modul3/fix_data_splitted/train\"\n",
    "VALIDATION_DIR = \"C:/Users/ASUS RYZEN/AnacondaJupyter/ML_Praktikum/Modul3/fix_data_splitted/val\"\n",
    "TEST_DIR = \"C:/Users/ASUS RYZEN/AnacondaJupyter/ML_Praktikum/Modul3/fix_data_splitted/test\"\n",
    "\n",
    "train_generator = generator_datagen.flow_from_directory(\n",
    "    TRAINING_DIR,\n",
    "    target_size=(height, width),\n",
    "    class_mode='categorical',\n",
    "    color_mode=\"rgb\",\n",
    "    shuffle=True,\n",
    "    batch_size=batch_size\n",
    ")\n",
    "\n",
    "validation_generator = val_gen.flow_from_directory(\n",
    "    VALIDATION_DIR,\n",
    "    target_size=(height,width),\n",
    "    class_mode='categorical',\n",
    "    color_mode=\"rgb\",\n",
    "    shuffle=False,\n",
    "    batch_size=batch_size\n",
    ")\n",
    "\n",
    "test_generator = val_gen.flow_from_directory(\n",
    "    TEST_DIR,\n",
    "    target_size=(height,width),\n",
    "    class_mode='categorical',\n",
    "    color_mode=\"rgb\",\n",
    "    shuffle=False,\n",
    "    batch_size=batch_size\n",
    ")"
   ]
  },
  {
   "cell_type": "markdown",
   "metadata": {},
   "source": [
    "# Modelling"
   ]
  },
  {
   "cell_type": "code",
   "execution_count": 19,
   "metadata": {},
   "outputs": [],
   "source": [
    "\n",
    "# IMPORT SEMUA PAKET YANG ANDA PERLUKAN UNTUK MENDEFINISIKAN MODEL DISINI\n",
    "from tensorflow.keras.models import Sequential\n",
    "from tensorflow.keras.layers import InputLayer, Dense, Conv2D, MaxPool2D, Flatten, BatchNormalization, Dropout\n",
    "from tensorflow.keras.callbacks import ModelCheckpoint, ReduceLROnPlateau, EarlyStopping\n",
    "from tensorflow.keras.optimizers import Adam\n",
    "import time"
   ]
  },
  {
   "cell_type": "code",
   "execution_count": 20,
   "metadata": {},
   "outputs": [],
   "source": [
    "# DEFINISIKAN MODEL ANDA DISINI\n",
    "model = Sequential()\n",
    "\n",
    "model.add(InputLayer(input_shape=[100,100,3]))\n",
    "\n",
    "model.add(Conv2D(filters=16, kernel_size=3, strides=1, padding='same', activation='relu'))\n",
    "model.add(BatchNormalization())\n",
    "model.add(MaxPool2D(pool_size=2, padding='same'))\n",
    "\n",
    "model.add(Conv2D(filters=32, kernel_size=3, strides=1, padding='same', activation='relu'))\n",
    "model.add(BatchNormalization())\n",
    "model.add(MaxPool2D(pool_size=2, padding='same'))\n",
    "\n",
    "model.add(Conv2D(filters=64, kernel_size=3, strides=1, padding='same', activation='relu'))\n",
    "model.add(BatchNormalization())\n",
    "model.add(MaxPool2D(pool_size=2, padding='same'))\n",
    "\n",
    "model.add(Conv2D(filters=128, kernel_size=3, strides=1, padding='same', activation='relu'))\n",
    "model.add(BatchNormalization())\n",
    "model.add(MaxPool2D(pool_size=2, padding='same'))\n",
    "\n",
    "model.add(Conv2D(filters=256, kernel_size=3, strides=1, padding='same', activation='relu'))\n",
    "model.add(BatchNormalization())\n",
    "model.add(MaxPool2D(pool_size=2, padding='same'))\n",
    "\n",
    "\n",
    "model.add(Dropout(0.25))\n",
    "\n",
    "model.add(Flatten())\n",
    "\n",
    "# Fully Connected Layer\n",
    "model.add(Dense(128, activation='relu'))\n",
    "model.add(Dense(3, activation='sigmoid'))"
   ]
  },
  {
   "cell_type": "code",
   "execution_count": 21,
   "metadata": {},
   "outputs": [
    {
     "name": "stdout",
     "output_type": "stream",
     "text": [
      "Model: \"sequential\"\n",
      "_________________________________________________________________\n",
      "Layer (type)                 Output Shape              Param #   \n",
      "=================================================================\n",
      "conv2d (Conv2D)              (None, 100, 100, 16)      448       \n",
      "_________________________________________________________________\n",
      "batch_normalization (BatchNo (None, 100, 100, 16)      64        \n",
      "_________________________________________________________________\n",
      "max_pooling2d (MaxPooling2D) (None, 50, 50, 16)        0         \n",
      "_________________________________________________________________\n",
      "conv2d_1 (Conv2D)            (None, 50, 50, 32)        4640      \n",
      "_________________________________________________________________\n",
      "batch_normalization_1 (Batch (None, 50, 50, 32)        128       \n",
      "_________________________________________________________________\n",
      "max_pooling2d_1 (MaxPooling2 (None, 25, 25, 32)        0         \n",
      "_________________________________________________________________\n",
      "conv2d_2 (Conv2D)            (None, 25, 25, 64)        18496     \n",
      "_________________________________________________________________\n",
      "batch_normalization_2 (Batch (None, 25, 25, 64)        256       \n",
      "_________________________________________________________________\n",
      "max_pooling2d_2 (MaxPooling2 (None, 13, 13, 64)        0         \n",
      "_________________________________________________________________\n",
      "conv2d_3 (Conv2D)            (None, 13, 13, 128)       73856     \n",
      "_________________________________________________________________\n",
      "batch_normalization_3 (Batch (None, 13, 13, 128)       512       \n",
      "_________________________________________________________________\n",
      "max_pooling2d_3 (MaxPooling2 (None, 7, 7, 128)         0         \n",
      "_________________________________________________________________\n",
      "conv2d_4 (Conv2D)            (None, 7, 7, 256)         295168    \n",
      "_________________________________________________________________\n",
      "batch_normalization_4 (Batch (None, 7, 7, 256)         1024      \n",
      "_________________________________________________________________\n",
      "max_pooling2d_4 (MaxPooling2 (None, 4, 4, 256)         0         \n",
      "_________________________________________________________________\n",
      "dropout (Dropout)            (None, 4, 4, 256)         0         \n",
      "_________________________________________________________________\n",
      "flatten (Flatten)            (None, 4096)              0         \n",
      "_________________________________________________________________\n",
      "dense (Dense)                (None, 128)               524416    \n",
      "_________________________________________________________________\n",
      "dense_1 (Dense)              (None, 3)                 387       \n",
      "=================================================================\n",
      "Total params: 919,395\n",
      "Trainable params: 918,403\n",
      "Non-trainable params: 992\n",
      "_________________________________________________________________\n",
      "None\n"
     ]
    }
   ],
   "source": [
    "# TULIS CODE UNTUK MENAMPILKAN SUMMARY DARI ARSITEKTUR MODEL ANDA DISINI\n",
    "print(model.summary())"
   ]
  },
  {
   "cell_type": "code",
   "execution_count": 22,
   "metadata": {},
   "outputs": [],
   "source": [
    "model.compile(loss='categorical_crossentropy',\n",
    "             optimizer=Adam(lr=0.001),\n",
    "             metrics='acc')"
   ]
  },
  {
   "cell_type": "code",
   "execution_count": 23,
   "metadata": {},
   "outputs": [
    {
     "name": "stdout",
     "output_type": "stream",
     "text": [
      "Epoch 1/20\n",
      "55/55 [==============================] - 46s 803ms/step - loss: 1.8243 - acc: 0.6322 - val_loss: 3.6306 - val_acc: 0.3309\n",
      "Epoch 2/20\n",
      "55/55 [==============================] - 28s 512ms/step - loss: 0.0962 - acc: 0.9660 - val_loss: 7.8928 - val_acc: 0.3309\n",
      "Epoch 3/20\n",
      "55/55 [==============================] - 29s 524ms/step - loss: 0.0592 - acc: 0.9776 - val_loss: 11.6160 - val_acc: 0.3309\n",
      "Epoch 4/20\n",
      "55/55 [==============================] - 28s 511ms/step - loss: 0.0374 - acc: 0.9849 - val_loss: 10.8579 - val_acc: 0.3309\n",
      "Epoch 5/20\n",
      "55/55 [==============================] - 29s 518ms/step - loss: 0.0433 - acc: 0.9845 - val_loss: 7.6361 - val_acc: 0.3309\n",
      "Epoch 6/20\n",
      "55/55 [==============================] - 28s 504ms/step - loss: 0.0284 - acc: 0.9880 - val_loss: 5.7843 - val_acc: 0.3357\n",
      "Epoch 7/20\n",
      "55/55 [==============================] - 29s 520ms/step - loss: 0.0248 - acc: 0.9902 - val_loss: 5.5976 - val_acc: 0.3309\n",
      "Epoch 8/20\n",
      "55/55 [==============================] - 29s 532ms/step - loss: 0.0379 - acc: 0.9897 - val_loss: 2.7994 - val_acc: 0.6208\n",
      "Epoch 9/20\n",
      "55/55 [==============================] - 28s 513ms/step - loss: 0.0580 - acc: 0.9864 - val_loss: 2.9750 - val_acc: 0.4324\n",
      "Epoch 10/20\n",
      "55/55 [==============================] - 29s 527ms/step - loss: 0.0173 - acc: 0.9931 - val_loss: 1.1765 - val_acc: 0.7729\n",
      "Epoch 11/20\n",
      "55/55 [==============================] - 29s 527ms/step - loss: 0.0138 - acc: 0.9944 - val_loss: 0.0597 - val_acc: 0.9855\n",
      "Epoch 12/20\n",
      "55/55 [==============================] - 30s 538ms/step - loss: 0.0372 - acc: 0.9841 - val_loss: 0.0793 - val_acc: 0.9879\n",
      "Epoch 13/20\n",
      "55/55 [==============================] - 28s 506ms/step - loss: 0.0123 - acc: 0.9969 - val_loss: 0.0687 - val_acc: 0.9734\n",
      "Epoch 14/20\n",
      "55/55 [==============================] - 29s 530ms/step - loss: 0.0276 - acc: 0.9940 - val_loss: 0.0510 - val_acc: 0.9855\n",
      "Epoch 15/20\n",
      "55/55 [==============================] - 29s 530ms/step - loss: 0.0243 - acc: 0.9950 - val_loss: 0.0998 - val_acc: 0.9758\n",
      "Epoch 16/20\n",
      "55/55 [==============================] - 28s 510ms/step - loss: 0.0078 - acc: 0.9982 - val_loss: 0.1439 - val_acc: 0.9662\n",
      "Epoch 17/20\n",
      "55/55 [==============================] - 30s 546ms/step - loss: 0.0126 - acc: 0.9984 - val_loss: 0.5521 - val_acc: 0.8623\n",
      "Epoch 18/20\n",
      "55/55 [==============================] - 28s 515ms/step - loss: 0.0132 - acc: 0.9975 - val_loss: 0.0530 - val_acc: 0.9831\n",
      "Epoch 19/20\n",
      "55/55 [==============================] - 30s 544ms/step - loss: 0.0084 - acc: 0.9971 - val_loss: 0.0796 - val_acc: 0.9758\n",
      "Epoch 20/20\n",
      "55/55 [==============================] - 30s 539ms/step - loss: 0.0066 - acc: 0.9972 - val_loss: 0.1559 - val_acc: 0.9734\n"
     ]
    }
   ],
   "source": [
    "H = model.fit(train_generator, epochs=20, validation_data = validation_generator)"
   ]
  },
  {
   "cell_type": "markdown",
   "metadata": {},
   "source": [
    "# Result"
   ]
  },
  {
   "cell_type": "code",
   "execution_count": 24,
   "metadata": {},
   "outputs": [
    {
     "name": "stdout",
     "output_type": "stream",
     "text": [
      "['paper', 'rock', 'scissors']\n"
     ]
    }
   ],
   "source": [
    "#Print the Target names\n",
    "target_names = []\n",
    "for key in train_generator.class_indices:\n",
    "    target_names.append(key)\n",
    "print(target_names)"
   ]
  },
  {
   "cell_type": "markdown",
   "metadata": {},
   "source": [
    "Source : https://sites.google.com/view/amarnath-r/keras-deep-learning-image-classification-a-simple-example"
   ]
  },
  {
   "cell_type": "markdown",
   "metadata": {},
   "source": [
    "## Result1 = Plotting"
   ]
  },
  {
   "cell_type": "code",
   "execution_count": 25,
   "metadata": {},
   "outputs": [
    {
     "name": "stdout",
     "output_type": "stream",
     "text": [
      "Requirement already satisfied: numpy in c:\\users\\asus ryzen\\anaconda3\\lib\\site-packages (1.19.2)\n"
     ]
    }
   ],
   "source": [
    "!pip3 install numpy\n",
    "import numpy as np"
   ]
  },
  {
   "cell_type": "code",
   "execution_count": 26,
   "metadata": {},
   "outputs": [
    {
     "name": "stderr",
     "output_type": "stream",
     "text": [
      "C:\\Users\\ASUS RYZEN\\anaconda3\\lib\\site-packages\\tensorflow\\python\\keras\\engine\\training.py:1877: UserWarning: `Model.evaluate_generator` is deprecated and will be removed in a future version. Please use `Model.evaluate`, which supports generators.\n",
      "  warnings.warn('`Model.evaluate_generator` is deprecated and '\n"
     ]
    },
    {
     "name": "stdout",
     "output_type": "stream",
     "text": [
      "WARNING:tensorflow:Your input ran out of data; interrupting training. Make sure that your dataset or generator can generate at least `steps_per_epoch * epochs` batches (in this case, 32 batches). You may need to use the repeat() function when building your dataset.\n",
      "[INFO] accuracy: 100.00%\n",
      "[INFO] Loss:  0.008207052014768124\n"
     ]
    }
   ],
   "source": [
    "#Get the accuracy score\n",
    "test_score = model.evaluate_generator(test_generator, batch_size)\n",
    "\n",
    "print(\"[INFO] accuracy: {:.2f}%\".format(test_score[1] * 100)) \n",
    "\n",
    "print(\"[INFO] Loss: \",test_score[0])"
   ]
  },
  {
   "cell_type": "code",
   "execution_count": 27,
   "metadata": {},
   "outputs": [
    {
     "data": {
      "image/png": "[encoded data removed]",
      "text/plain": [
       "<Figure size 432x288 with 1 Axes>"
      ]
     },
     "metadata": {},
     "output_type": "display_data"
    }
   ],
   "source": [
    "#Los\n",
    "%matplotlib inline\n",
    "\n",
    "import matplotlib.pyplot as plt\n",
    "\n",
    "plt.style.use(\"ggplot\")\n",
    "plt.figure()\n",
    "plt.plot(np.arange(0, 20), H.history[\"loss\"], label=\"train_loss\")\n",
    "plt.plot(np.arange(0, 20), H.history[\"val_loss\"], label=\"val_loss\")\n",
    "plt.title(\"Loss Plot\")\n",
    "plt.xlabel(\"Epoch #\")\n",
    "plt.ylabel(\"Loss\")\n",
    "plt.legend()\n",
    "plt.show()"
   ]
  },
  {
   "cell_type": "code",
   "execution_count": 28,
   "metadata": {},
   "outputs": [
    {
     "data": {
      "image/png": "[encoded data removed]",
      "text/plain": [
       "<Figure size 432x288 with 1 Axes>"
      ]
     },
     "metadata": {},
     "output_type": "display_data"
    }
   ],
   "source": [
    "#Acc\n",
    "plt.style.use(\"ggplot\")\n",
    "plt.figure()\n",
    "plt.plot(np.arange(0, 20), H.history[\"acc\"], label=\"train_acc\")\n",
    "plt.plot(np.arange(0, 20), H.history[\"val_acc\"], label=\"val_acc\")\n",
    "plt.title(\"Accuracy Plot\")\n",
    "plt.xlabel(\"Epoch #\")\n",
    "plt.ylabel(\"Acc\")\n",
    "plt.legend()\n",
    "plt.show()"
   ]
  },
  {
   "cell_type": "markdown",
   "metadata": {},
   "source": [
    "## Result2 = Confusion matrix"
   ]
  },
  {
   "cell_type": "code",
   "execution_count": 29,
   "metadata": {},
   "outputs": [],
   "source": [
    "from sklearn.metrics import  confusion_matrix\n",
    "import itertools "
   ]
  },
  {
   "cell_type": "code",
   "execution_count": 30,
   "metadata": {},
   "outputs": [
    {
     "name": "stdout",
     "output_type": "stream",
     "text": [
      "['paper', 'rock', 'scissors']\n"
     ]
    }
   ],
   "source": [
    "#Print the Target names\n",
    "target_names = []\n",
    "for key in train_generator.class_indices:\n",
    "    target_names.append(key)\n",
    "print(target_names)"
   ]
  },
  {
   "cell_type": "code",
   "execution_count": 31,
   "metadata": {},
   "outputs": [],
   "source": [
    "#Plot the confusion matrix. Set Normalize = True/False\n",
    "def plot_confusion_matrix(cm, classes, normalize=True, title='Confusion matrix', cmap=plt.cm.Blues):\n",
    "\n",
    "    \"\"\"\n",
    "    This function prints and plots the confusion matrix.\n",
    "    Normalization can be applied by setting `normalize=True`.\n",
    "    \"\"\"\n",
    "    plt.figure(figsize=(10,10))\n",
    "    plt.imshow(cm, interpolation='nearest', cmap=cmap)\n",
    "    plt.title(title)\n",
    "    plt.colorbar()\n",
    "\n",
    "    tick_marks = np.arange(len(classes))\n",
    "    plt.xticks(tick_marks, classes, rotation=45)\n",
    "    plt.yticks(tick_marks, classes)\n",
    "\n",
    "    if normalize:\n",
    "        cm = cm.astype('float') / cm.sum(axis=1)[:, np.newaxis]\n",
    "        cm = np.around(cm, decimals=2)\n",
    "        cm[np.isnan(cm)] = 0.0\n",
    "        print(\"Normalized confusion matrix\")\n",
    "    else:\n",
    "        print('Confusion matrix, without normalization')\n",
    "    thresh = cm.max() / 2.\n",
    "\n",
    "    for i, j in itertools.product(range(cm.shape[0]), range(cm.shape[1])):\n",
    "        plt.text(j, i, cm[i, j],\n",
    "                 horizontalalignment=\"center\",\n",
    "                 color=\"white\" if cm[i, j] > thresh else \"black\")\n",
    "        \n",
    "    plt.tight_layout()\n",
    "    plt.ylabel('True label')\n",
    "    plt.xlabel('Predicted label')"
   ]
  },
  {
   "cell_type": "code",
   "execution_count": 32,
   "metadata": {},
   "outputs": [
    {
     "name": "stderr",
     "output_type": "stream",
     "text": [
      "C:\\Users\\ASUS RYZEN\\anaconda3\\lib\\site-packages\\tensorflow\\python\\keras\\engine\\training.py:1905: UserWarning: `Model.predict_generator` is deprecated and will be removed in a future version. Please use `Model.predict`, which supports generators.\n",
      "  warnings.warn('`Model.predict_generator` is deprecated and '\n"
     ]
    },
    {
     "name": "stdout",
     "output_type": "stream",
     "text": [
      "Confusion Matrix\n",
      "Normalized confusion matrix\n"
     ]
    },
    {
     "data": {
      "image/png": "[encoded data removed]",
      "text/plain": [
       "<Figure size 720x720 with 2 Axes>"
      ]
     },
     "metadata": {},
     "output_type": "display_data"
    }
   ],
   "source": [
    "Y_pred = model.predict_generator(test_generator)\n",
    "y_pred = np.argmax(Y_pred, axis=1)\n",
    "\n",
    "print('Confusion Matrix')\n",
    "cm = confusion_matrix(test_generator.classes, y_pred)\n",
    "plot_confusion_matrix(cm, target_names, title='Confusion Matrix')"
   ]
  },
  {
   "cell_type": "markdown",
   "metadata": {},
   "source": [
    "## Result3 = Prediction"
   ]
  },
  {
   "cell_type": "code",
   "execution_count": 33,
   "metadata": {},
   "outputs": [
    {
     "name": "stdout",
     "output_type": "stream",
     "text": [
      "Classification Report\n",
      "              precision    recall  f1-score   support\n",
      "\n",
      "       paper       1.00      1.00      1.00         8\n",
      "        rock       1.00      1.00      1.00         9\n",
      "    scissors       1.00      1.00      1.00         8\n",
      "\n",
      "    accuracy                           1.00        25\n",
      "   macro avg       1.00      1.00      1.00        25\n",
      "weighted avg       1.00      1.00      1.00        25\n",
      "\n"
     ]
    }
   ],
   "source": [
    "from sklearn.metrics import classification_report\n",
    "\n",
    "Y_pred = model.predict_generator(test_generator)\n",
    "y_pred = np.argmax(Y_pred, axis=1)\n",
    "\n",
    "print('Classification Report')\n",
    "print(classification_report(test_generator.classes, y_pred, target_names=target_names))"
   ]
  },
  {
   "cell_type": "markdown",
   "metadata": {},
   "source": [
    "## Result3 = SaveModel"
   ]
  },
  {
   "cell_type": "code",
   "execution_count": 34,
   "metadata": {},
   "outputs": [],
   "source": [
    "model.save('C:/Users/ASUS RYZEN/AnacondaJupyter/ML_Praktikum/Modul3/saved_model/BatchNormModel.h5')\n",
    "model.save('C:/Users/ASUS RYZEN/AnacondaJupyter/ML_Praktikum/Modul3/saved_model/DropoutModel.h5')"
   ]
  },
  {
   "cell_type": "markdown",
   "metadata": {},
   "source": [
    "## Result4 = Make Prediction"
   ]
  },
  {
   "cell_type": "code",
   "execution_count": 35,
   "metadata": {},
   "outputs": [
    {
     "name": "stdout",
     "output_type": "stream",
     "text": [
      "Requirement already satisfied: opencv-python in c:\\users\\asus ryzen\\anaconda3\\lib\\site-packages (4.5.4.58)\n",
      "Requirement already satisfied: numpy>=1.17.3 in c:\\users\\asus ryzen\\anaconda3\\lib\\site-packages (from opencv-python) (1.19.2)\n"
     ]
    }
   ],
   "source": [
    "!pip3 install opencv-python"
   ]
  },
  {
   "cell_type": "code",
   "execution_count": 36,
   "metadata": {},
   "outputs": [
    {
     "name": "stdout",
     "output_type": "stream",
     "text": [
      "Model : BatchNormModel.h5\n",
      "Predicted Label : paper\n",
      "Probability : 1.0\n",
      "===============\n",
      "\n",
      "Model : DropoutModel.h5\n",
      "Predicted Label : paper\n",
      "Probability : 1.0\n",
      "===============\n",
      "\n"
     ]
    }
   ],
   "source": [
    "import cv2\n",
    "from tensorflow.keras.models import  load_model\n",
    "img_upl = cv2.imread('C:/Users/ASUS RYZEN/AnacondaJupyter/ML_Praktikum/Modul3/fix_data_splitted/test/paper/byBLmTC0iWfnT7wo.png')\n",
    "\n",
    "img = np.array(img_upl)\n",
    "img = cv2.cvtColor(img, cv2.COLOR_BGR2RGB)\n",
    "\n",
    "model_list = ['C:/Users/ASUS RYZEN/AnacondaJupyter/ML_Praktikum/Modul3/saved_model/BatchNormModel.h5',\n",
    "              'C:/Users/ASUS RYZEN/AnacondaJupyter/ML_Praktikum/Modul3/saved_model/DropoutModel.h5']\n",
    "labels = ['rock', 'paper', 'scissors']\n",
    "\n",
    "\n",
    "for m in model_list:\n",
    "    model = load_model(m)\n",
    "    size_img = model.layers[0].output_shape[1:3]\n",
    "    imgs = cv2.resize(img, size_img)\n",
    "    imgs = imgs.astype('float32') / 255\n",
    "    pred = model.predict(np.expand_dims(imgs, axis=0))[0]\n",
    "    print('Model :', m.split('/')[-1])\n",
    "    print('Predicted Label :',labels[((pred > 0.5)+0).ravel()[0]])\n",
    "    print('Probability :',[ round(elem, 4) for elem in pred ][0])\n",
    "    print('===============\\n')"
   ]
  },
  {
   "cell_type": "code",
   "execution_count": 37,
   "metadata": {},
   "outputs": [
    {
     "name": "stdout",
     "output_type": "stream",
     "text": [
      "Model : BatchNormModel.h5\n",
      "Predicted Label : rock\n",
      "Probability : 0.0002\n",
      "===============\n",
      "\n",
      "WARNING:tensorflow:5 out of the last 6 calls to <function Model.make_predict_function.<locals>.predict_function at 0x000001EF84784D30> triggered tf.function retracing. Tracing is expensive and the excessive number of tracings could be due to (1) creating @tf.function repeatedly in a loop, (2) passing tensors with different shapes, (3) passing Python objects instead of tensors. For (1), please define your @tf.function outside of the loop. For (2), @tf.function has experimental_relax_shapes=True option that relaxes argument shapes that can avoid unnecessary retracing. For (3), please refer to https://www.tensorflow.org/guide/function#controlling_retracing and https://www.tensorflow.org/api_docs/python/tf/function for  more details.\n",
      "Model : DropoutModel.h5\n",
      "Predicted Label : rock\n",
      "Probability : 0.0002\n",
      "===============\n",
      "\n"
     ]
    }
   ],
   "source": [
    "import cv2\n",
    "from tensorflow.keras.models import  load_model\n",
    "img_upl = cv2.imread('C:/Users/ASUS RYZEN/AnacondaJupyter/ML_Praktikum/Modul3/fix_data_splitted/test/rock/IumhcLm1sbOr4pXt.png')\n",
    "\n",
    "img = np.array(img_upl)\n",
    "img = cv2.cvtColor(img, cv2.COLOR_BGR2RGB)\n",
    "\n",
    "model_list = ['C:/Users/ASUS RYZEN/AnacondaJupyter/ML_Praktikum/Modul3/saved_model/BatchNormModel.h5',\n",
    "              'C:/Users/ASUS RYZEN/AnacondaJupyter/ML_Praktikum/Modul3/saved_model/DropoutModel.h5']\n",
    "labels = ['rock', 'paper', 'scissors']\n",
    "\n",
    "\n",
    "for m in model_list:\n",
    "    model = load_model(m)\n",
    "    size_img = model.layers[0].output_shape[1:3]\n",
    "    imgs = cv2.resize(img, size_img)\n",
    "    imgs = imgs.astype('float32') / 255\n",
    "    pred = model.predict(np.expand_dims(imgs, axis=0))[0]\n",
    "    print('Model :', m.split('/')[-1])\n",
    "    print('Predicted Label :',labels[((pred > 0.5)+0).ravel()[0]])\n",
    "    print('Probability :',[ round(elem, 4) for elem in pred ][0])\n",
    "    print('===============\\n')"
   ]
  },
  {
   "cell_type": "code",
   "execution_count": 38,
   "metadata": {},
   "outputs": [
    {
     "ename": "SyntaxError",
     "evalue": "EOF while scanning triple-quoted string literal (<ipython-input-38-97e465d31c8f>, line 4)",
     "output_type": "error",
     "traceback": [
      "\u001b[1;36m  File \u001b[1;32m\"<ipython-input-38-97e465d31c8f>\"\u001b[1;36m, line \u001b[1;32m4\u001b[0m\n\u001b[1;33m    labels = ['cat', 'dog']\u001b[0m\n\u001b[1;37m                           \n^\u001b[0m\n\u001b[1;31mSyntaxError\u001b[0m\u001b[1;31m:\u001b[0m EOF while scanning triple-quoted string literal\n"
     ]
    }
   ],
   "source": [
    "'''\n",
    "model_list = ['C:/Users/ASUS RYZEN/AnacondaJupyter/ML_Praktikum/Modul3/saved_model/BatchNormModel.h5',\n",
    "              'C:/Users/ASUS RYZEN/AnacondaJupyter/ML_Praktikum/Modul3/saved_model/DropoutModel.h5']\n",
    "labels = ['cat', 'dog']\n"
   ]
  }
 ],
 "metadata": {
  "kernelspec": {
   "display_name": "Python 3",
   "language": "python",
   "name": "python3"
  },
  "language_info": {
   "codemirror_mode": {
    "name": "ipython",
    "version": 3
   },
   "file_extension": ".py",
   "mimetype": "text/x-python",
   "name": "python",
   "nbconvert_exporter": "python",
   "pygments_lexer": "ipython3",
   "version": "3.8.5"
  }
 },
 "nbformat": 4,
 "nbformat_minor": 4
}
